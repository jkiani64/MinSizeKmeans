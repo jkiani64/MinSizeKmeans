{
 "cells": [
  {
   "cell_type": "code",
   "execution_count": null,
   "metadata": {
    "ExecuteTime": {
     "end_time": "2020-04-21T19:47:50.826060Z",
     "start_time": "2020-04-21T19:47:50.171232Z"
    }
   },
   "outputs": [],
   "source": [
    "from run_mskmeans import *\n",
    "datafile = '../data/iris.data'\n",
    "k = 3 #Number of the clusters\n",
    "min_size = 40 #Each cluster should contain at least min_size points\n",
    "max_size = 40 #Each cluster should contain at most max_size points\n",
    "NUM_ITER = 2 # Run the algorithm NUM_ITER\n",
    "\n",
    "# Read the data\n",
    "data = read_data(datafile)\n",
    "data = np.array(data)\n",
    "\n",
    "best = None\n",
    "best_clusters = None\n",
    "\n",
    "best = None\n",
    "best_clusters = None\n",
    "for i in range(NUM_ITER):\n",
    "    clusters, centers = minsize_kmeans(data, k, min_size)\n",
    "    if clusters:\n",
    "        quality = compute_quality(data, clusters)\n",
    "        if not best or (quality < best):\n",
    "            best = quality\n",
    "            best_clusters = clusters\n",
    "        print('sum of squared distances: %.4f'%(quality))\n",
    "print('---'*10)\n",
    "print('sum of squared distances: %.4f'%(best))\n",
    "np.unique(best_clusters, return_counts=True)"
   ]
  },
  {
   "cell_type": "code",
   "execution_count": 30,
   "metadata": {
    "ExecuteTime": {
     "end_time": "2020-04-21T20:32:52.508825Z",
     "start_time": "2020-04-21T20:32:50.971272Z"
    }
   },
   "outputs": [
    {
     "name": "stderr",
     "output_type": "stream",
     "text": [
      "/anaconda3/lib/python3.7/site-packages/pulp/pulp.py:1114: UserWarning: Spaces are not permitted in the name. Converted to '_'\n",
      "  warnings.warn(\"Spaces are not permitted in the name. Converted to '_'\")\n"
     ]
    },
    {
     "name": "stdout",
     "output_type": "stream",
     "text": [
      "sum of squared distances: 79.3430\n",
      "sum of squared distances: 79.3682\n",
      "------------------------------\n",
      "sum of squared distances: 79.3430\n"
     ]
    },
    {
     "data": {
      "text/plain": [
       "(array([0, 1, 2]), array([41, 50, 59]))"
      ]
     },
     "execution_count": 30,
     "metadata": {},
     "output_type": "execute_result"
    }
   ],
   "source": [
    "from minmax_kmeans import *\n",
    "datafile = '../data/iris.data'\n",
    "k = 3 #Number of the clusters\n",
    "min_size = 40 #Each cluster should contain at least min_size points\n",
    "max_size = 59 #Each cluster should contain at most max_size points\n",
    "NUM_ITER = 2 # Run the algorithm NUM_ITER\n",
    "\n",
    "# Read the data\n",
    "data = read_data(datafile)\n",
    "data = np.array(data)\n",
    "\n",
    "best = None\n",
    "best_clusters = None\n",
    "\n",
    "best = None\n",
    "best_clusters = None\n",
    "for i in range(NUM_ITER):\n",
    "    clusters, centers = minsize_kmeans(data, k, min_size, max_size)\n",
    "    if clusters:\n",
    "        quality = compute_quality(data, clusters)\n",
    "        if not best or (quality < best):\n",
    "            best = quality\n",
    "            best_clusters = clusters\n",
    "        print('sum of squared distances: %.4f'%(quality))\n",
    "print('---'*10)\n",
    "print('sum of squared distances: %.4f'%(best))\n",
    "np.unique(best_clusters, return_counts=True)"
   ]
  },
  {
   "cell_type": "code",
   "execution_count": 14,
   "metadata": {
    "ExecuteTime": {
     "end_time": "2020-04-21T20:26:45.315970Z",
     "start_time": "2020-04-21T20:26:45.290629Z"
    }
   },
   "outputs": [
    {
     "data": {
      "text/plain": [
       "cluster\n",
       "0    2719.94\n",
       "1    2009.66\n",
       "2    2490.53\n",
       "Name: weight, dtype: float64"
      ]
     },
     "execution_count": 14,
     "metadata": {},
     "output_type": "execute_result"
    }
   ],
   "source": [
    "df.groupby('cluster')['weight'].sum()"
   ]
  },
  {
   "cell_type": "code",
   "execution_count": null,
   "metadata": {
    "ExecuteTime": {
     "start_time": "2020-04-21T20:44:37.782Z"
    }
   },
   "outputs": [],
   "source": [
    "from weighted_mm_kmeans import *\n",
    "import pandas as pd\n",
    "import warnings\n",
    "warnings.filterwarnings(\"ignore\")\n",
    "\n",
    "datafile = '../data/iris.data'\n",
    "weightfile = '../data/iris.weights'\n",
    "k = 3  \n",
    "# Number of the clusters\n",
    "min_weight = df['weight'].sum() / 3.05\n",
    "# Each cluster should contain at least min_size points\n",
    "max_weight = df['weight'].sum() \n",
    "# Each cluster should contain at most max_size points\n",
    "NUM_ITER = 5  # Run the algorithm NUM_ITER\n",
    "\n",
    "# Read the data\n",
    "data = read_data(datafile)\n",
    "data = np.array(data)\n",
    "weights = read_weights(weightfile)\n",
    "\n",
    "df = pd.DataFrame(data, columns = ['f1', 'f2', 'f3', 'f4'])\n",
    "features = ['f1', 'f2', 'f3', 'f4']\n",
    "df['weight'] = weights\n",
    "\n",
    "best = None\n",
    "best_clusters = None\n",
    "for i in range(NUM_ITER):\n",
    "    clusters, centers = minsize_kmeans_weighted(df[features].values, k, df['weight'].values,\n",
    "                                                min_weight, max_weight)\n",
    "    if clusters:\n",
    "        quality = compute_quality(data, clusters)\n",
    "        if not best or (quality < best):\n",
    "            best = quality\n",
    "            best_clusters = clusters\n",
    "\n",
    "print('sum of squared distances: %.4f'%(best))\n",
    "print('-'*30)\n",
    "df['cluster'] = best_clusters\n",
    "df.groupby('cluster')['weight'].sum()"
   ]
  },
  {
   "cell_type": "code",
   "execution_count": 43,
   "metadata": {
    "ExecuteTime": {
     "end_time": "2020-04-21T20:44:29.394935Z",
     "start_time": "2020-04-21T20:44:29.385520Z"
    }
   },
   "outputs": [
    {
     "data": {
      "text/plain": [
       "2367.2557377049184"
      ]
     },
     "execution_count": 43,
     "metadata": {},
     "output_type": "execute_result"
    }
   ],
   "source": [
    "df['weight'].sum() / 3.05"
   ]
  },
  {
   "cell_type": "code",
   "execution_count": null,
   "metadata": {},
   "outputs": [],
   "source": []
  }
 ],
 "metadata": {
  "kernelspec": {
   "display_name": "Python 3",
   "language": "python",
   "name": "python3"
  },
  "toc": {
   "base_numbering": 1,
   "nav_menu": {},
   "number_sections": true,
   "sideBar": true,
   "skip_h1_title": false,
   "title_cell": "Table of Contents",
   "title_sidebar": "Contents",
   "toc_cell": false,
   "toc_position": {},
   "toc_section_display": true,
   "toc_window_display": false
  },
  "varInspector": {
   "cols": {
    "lenName": 16,
    "lenType": 16,
    "lenVar": 40
   },
   "kernels_config": {
    "python": {
     "delete_cmd_postfix": "",
     "delete_cmd_prefix": "del ",
     "library": "var_list.py",
     "varRefreshCmd": "print(var_dic_list())"
    },
    "r": {
     "delete_cmd_postfix": ") ",
     "delete_cmd_prefix": "rm(",
     "library": "var_list.r",
     "varRefreshCmd": "cat(var_dic_list()) "
    }
   },
   "types_to_exclude": [
    "module",
    "function",
    "builtin_function_or_method",
    "instance",
    "_Feature"
   ],
   "window_display": false
  }
 },
 "nbformat": 4,
 "nbformat_minor": 2
}
